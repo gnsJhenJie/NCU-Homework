{
 "cells": [
  {
   "cell_type": "markdown",
   "metadata": {},
   "source": [
    "# Import"
   ]
  },
  {
   "cell_type": "code",
   "execution_count": 7,
   "metadata": {},
   "outputs": [],
   "source": [
    "import numpy as np\n",
    "import pandas as pd\n",
    "import csv\n",
    "import datetime\n",
    "import math"
   ]
  },
  {
   "cell_type": "markdown",
   "metadata": {},
   "source": [
    "# My Library"
   ]
  },
  {
   "cell_type": "code",
   "execution_count": null,
   "metadata": {},
   "outputs": [],
   "source": []
  },
  {
   "cell_type": "markdown",
   "metadata": {},
   "source": [
    "# Read File"
   ]
  },
  {
   "cell_type": "code",
   "execution_count": null,
   "metadata": {},
   "outputs": [],
   "source": []
  },
  {
   "cell_type": "markdown",
   "metadata": {},
   "source": [
    "# Main"
   ]
  },
  {
   "cell_type": "code",
   "execution_count": 8,
   "metadata": {},
   "outputs": [
    {
     "name": "stdout",
     "output_type": "stream",
     "text": [
      "1011 ok\n",
      "1012 ok\n",
      "1021 ok\n",
      "1022 ok\n",
      "1031 ok\n",
      "1032 ok\n",
      "1041 ok\n",
      "1042 ok\n",
      "1051 ok\n",
      "1052 ok\n",
      "1061 ok\n"
     ]
    }
   ],
   "source": [
    "# set all semester variable\n",
    "semesters = [1011, 1012, 1021, 1022, 1031, 1032, 1041, 1042, 1051, 1052, 1061]\n",
    "\n",
    "students = {}\n",
    "\n",
    "for semester in semesters:\n",
    "    \n",
    "    data = pd.read_csv('scores/score_' + str(semester) + '.csv')\n",
    "    for i in range(len(data)):\n",
    "        s_id = data['S_ID'][i]\n",
    "        avg_score = data['AVG_SCORE'][i]\n",
    "        if s_id not in students:\n",
    "            students[s_id] = [avg_score]\n",
    "        else:\n",
    "            students[s_id].append(avg_score)\n",
    "    \n",
    "    print(semester, 'ok')\n",
    "    \n",
    "with open('grade_up_down.csv', 'w') as csvfile:\n",
    "    writer = csv.writer(csvfile)\n",
    "    writer.writerow(['S_ID', 'Down'])\n",
    "    \n",
    "    for s_id in students:\n",
    "        avg_score = np.average(students[s_id])\n",
    "        down = 0\n",
    "        for score in students[s_id]:\n",
    "            if score < avg_score:\n",
    "                down += 1\n",
    "            \n",
    "        writer.writerow([s_id, down])"
   ]
  },
  {
   "cell_type": "code",
   "execution_count": null,
   "metadata": {
    "scrolled": true
   },
   "outputs": [],
   "source": []
  },
  {
   "cell_type": "markdown",
   "metadata": {},
   "source": [
    "# Test"
   ]
  },
  {
   "cell_type": "code",
   "execution_count": null,
   "metadata": {
    "scrolled": true
   },
   "outputs": [],
   "source": []
  }
 ],
 "metadata": {
  "kernelspec": {
   "display_name": "Python 3",
   "language": "python",
   "name": "python3"
  },
  "language_info": {
   "codemirror_mode": {
    "name": "ipython",
    "version": 3
   },
   "file_extension": ".py",
   "mimetype": "text/x-python",
   "name": "python",
   "nbconvert_exporter": "python",
   "pygments_lexer": "ipython3",
   "version": "3.7.1"
  }
 },
 "nbformat": 4,
 "nbformat_minor": 2
}
